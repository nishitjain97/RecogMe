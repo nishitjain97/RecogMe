{
 "cells": [
  {
   "cell_type": "code",
   "execution_count": 43,
   "metadata": {},
   "outputs": [
    {
     "name": "stdout",
     "output_type": "stream",
     "text": [
      "Tensorflow version is 1.8.0\n"
     ]
    }
   ],
   "source": [
    "# Required packages\n",
    "from __future__ import absolute_import, division, print_function\n",
    "import numpy as np\n",
    "import matplotlib.pyplot as plt\n",
    "import os\n",
    "import tensorflow as tf\n",
    "%matplotlib inline\n",
    "\n",
    "from PIL import Image\n",
    "from IPython.display import display\n",
    "from sklearn.model_selection import train_test_split\n",
    "from keras.models import Sequential\n",
    "from tensorflow import keras\n",
    "from keras.callbacks import ModelCheckpoint\n",
    "from keras.utils import to_categorical\n",
    "\n",
    "print(\"Tensorflow version is\", tf.__version__)"
   ]
  },
  {
   "cell_type": "code",
   "execution_count": 44,
   "metadata": {},
   "outputs": [],
   "source": [
    "def process_image(img:'np.array') -> 'np.array':\n",
    "    \"\"\"\n",
    "        Input: Numpy Array\n",
    "        Output: Numpy Array\n",
    "        Takes an image as numpy array and returns processed image for prediction model.\n",
    "    \"\"\"\n",
    "    try:\n",
    "        exif = dict((ExifTags.TAGS[k], v) for k, v in img._getexif().items() if k in ExifTags.TAGS)\n",
    "                    \n",
    "        if exif['Orientation'] == 8:\n",
    "            img = img.rotate(90, expand=True)\n",
    "        elif exif['Orientation'] == 6:\n",
    "            img = img.rotate(-90, expand=True)\n",
    "        elif exif['Orientation'] == 3:\n",
    "            img = img.rotate(180, expand=True)\n",
    "    except:\n",
    "        pass\n",
    "    \n",
    "    # Get the image dimensions\n",
    "    w, h = img.size\n",
    "\n",
    "    # Find the smaller dimension to crop the bigger dimension accordingly\n",
    "    min_dim = min(w, h)\n",
    "\n",
    "    # The number of pixels to be cropped would be half on both sides\n",
    "    w_new = (w-min_dim) / 2\n",
    "    h_new = (h-min_dim) / 2\n",
    "\n",
    "    # Crop the image\n",
    "    img = img.crop((w_new, h_new, w-w_new, h-h_new))\n",
    "\n",
    "    # Resize the image\n",
    "    size = (128, 128)\n",
    "    img.thumbnail(size, Image.ANTIALIAS)\n",
    "    \n",
    "    # Convert to numpy array\n",
    "    img_array = np.asarray(img, dtype='int32')\n",
    "    \n",
    "    # Normalize image\n",
    "    img_array = img_array / np.max(img_array)\n",
    "    \n",
    "    # Reshape input image\n",
    "    img_array = img_array.reshape((1, 128, 128, 3))\n",
    "    \n",
    "    return img_array"
   ]
  },
  {
   "cell_type": "code",
   "execution_count": 45,
   "metadata": {},
   "outputs": [],
   "source": [
    "img_shape = (128, 128, 3)\n",
    "\n",
    "base_model = tf.keras.applications.MobileNet(input_shape=img_shape, include_top=False, weights='imagenet')"
   ]
  },
  {
   "cell_type": "code",
   "execution_count": 46,
   "metadata": {},
   "outputs": [],
   "source": [
    "model = tf.keras.Sequential([\n",
    "    base_model,\n",
    "    keras.layers.GlobalAveragePooling2D(),\n",
    "    keras.layers.Dense(2, activation='softmax')\n",
    "])"
   ]
  },
  {
   "cell_type": "code",
   "execution_count": 47,
   "metadata": {},
   "outputs": [],
   "source": [
    "model.load_weights('best_model.hdf5')"
   ]
  },
  {
   "cell_type": "code",
   "execution_count": 48,
   "metadata": {},
   "outputs": [],
   "source": [
    "root = 'Sonali\\'s phone'\n",
    "list_of_images = os.listdir(root)"
   ]
  },
  {
   "cell_type": "code",
   "execution_count": 49,
   "metadata": {},
   "outputs": [],
   "source": [
    "values = ['me', 'notme']"
   ]
  },
  {
   "cell_type": "code",
   "execution_count": 50,
   "metadata": {},
   "outputs": [],
   "source": [
    "for image in list_of_images:\n",
    "    try:\n",
    "        img = Image.open(os.path.join(root, image))\n",
    "    except:\n",
    "        continue\n",
    "    \n",
    "    img.load()\n",
    "    \n",
    "    img2 = process_image(img)\n",
    "    \n",
    "    pred = model.predict(img2)\n",
    "    \n",
    "    pred = int(np.argmax(pred, axis=1))\n",
    "    \n",
    "    img.save(os.path.join('final', values[pred], image))"
   ]
  },
  {
   "cell_type": "code",
   "execution_count": null,
   "metadata": {},
   "outputs": [],
   "source": []
  }
 ],
 "metadata": {
  "kernelspec": {
   "display_name": "Python 3",
   "language": "python",
   "name": "python3"
  },
  "language_info": {
   "codemirror_mode": {
    "name": "ipython",
    "version": 3
   },
   "file_extension": ".py",
   "mimetype": "text/x-python",
   "name": "python",
   "nbconvert_exporter": "python",
   "pygments_lexer": "ipython3",
   "version": "3.6.5"
  }
 },
 "nbformat": 4,
 "nbformat_minor": 2
}
