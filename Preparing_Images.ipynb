{
 "cells": [
  {
   "cell_type": "code",
   "execution_count": 3,
   "metadata": {},
   "outputs": [],
   "source": [
    "# Required packages\n",
    "from IPython.display import display\n",
    "from PIL import Image, ExifTags\n",
    "import os\n",
    "import matplotlib.pyplot as plt\n",
    "%matplotlib inline"
   ]
  },
  {
   "cell_type": "code",
   "execution_count": 4,
   "metadata": {},
   "outputs": [
    {
     "name": "stdout",
     "output_type": "stream",
     "text": [
      "Could not open photos/me/.DS_Store because cannot identify image file 'photos/me/.DS_Store'\n",
      "Could not open photos/me/FZIY1210.MOV because cannot identify image file 'photos/me/FZIY1210.MOV'\n",
      "Folder 'me' completed.\n",
      "Folder 'notme' completed.\n"
     ]
    }
   ],
   "source": [
    "# Reduce the size of all images and crop them to fixed size\n",
    "root_source_folder = 'photos'\n",
    "root_destination_folder = 'photos_min'\n",
    "size = (128, 128)\n",
    "\n",
    "# Iterate over folders of two labels\n",
    "for folder in os.listdir(root_source_folder)[1:]:\n",
    "    for (dirpath, dirnames, filenames) in os.walk(os.path.join(root_source_folder, folder)):\n",
    "        for file in filenames:\n",
    "            infile = os.path.join(dirpath, file)\n",
    "            outfile = os.path.join(root_destination_folder, folder, os.path.splitext(file)[0] + '.png')\n",
    "            \n",
    "            # Check if file already exists\n",
    "            if os.path.isfile(outfile):\n",
    "                continue\n",
    "                \n",
    "            try:\n",
    "                # Open the image\n",
    "                img = Image.open(infile)\n",
    "                \n",
    "                try:\n",
    "                    exif = dict((ExifTags.TAGS[k], v) for k, v in img._getexif().items() if k in ExifTags.TAGS)\n",
    "                    \n",
    "                    if exif['Orientation'] == 8:\n",
    "                        img = img.rotate(90, expand=True)\n",
    "                    elif exif['Orientation'] == 6:\n",
    "                        img = img.rotate(-90, expand=True)\n",
    "                    elif exif['Orientation'] == 3:\n",
    "                        img = img.rotate(180, expand=True)\n",
    "                except:\n",
    "                    pass\n",
    "                \n",
    "                \n",
    "                # Get the image dimensions\n",
    "                w, h = img.size\n",
    "                \n",
    "                # Find the smaller dimension to crop the bigger dimension accordingly\n",
    "                min_dim = min(w, h)\n",
    "                \n",
    "                # The number of pixels to be cropped would be half on both sides\n",
    "                w_new = (w-min_dim) / 2\n",
    "                h_new = (h-min_dim) / 2\n",
    "                \n",
    "                # Crop the image\n",
    "                img = img.crop((w_new, h_new, w-w_new, h-h_new))\n",
    "                \n",
    "                # Resize the image\n",
    "                img.thumbnail(size, Image.ANTIALIAS)\n",
    "                \n",
    "                # Save to file\n",
    "                img.save(outfile, 'JPEG')\n",
    "            except IOError as e:\n",
    "                print(\"Could not open %s because %s\" % (infile, e))\n",
    "        print(\"Folder '%s' completed.\" % (folder))"
   ]
  },
  {
   "cell_type": "code",
   "execution_count": null,
   "metadata": {},
   "outputs": [],
   "source": []
  }
 ],
 "metadata": {
  "kernelspec": {
   "display_name": "Python 3",
   "language": "python",
   "name": "python3"
  },
  "language_info": {
   "codemirror_mode": {
    "name": "ipython",
    "version": 3
   },
   "file_extension": ".py",
   "mimetype": "text/x-python",
   "name": "python",
   "nbconvert_exporter": "python",
   "pygments_lexer": "ipython3",
   "version": "3.6.5"
  }
 },
 "nbformat": 4,
 "nbformat_minor": 2
}
