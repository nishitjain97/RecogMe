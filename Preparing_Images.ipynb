{
 "cells": [
  {
   "cell_type": "code",
   "execution_count": 1,
   "metadata": {},
   "outputs": [],
   "source": [
    "# Required packages\n",
    "from IPython.display import display\n",
    "from PIL import Image\n",
    "import os"
   ]
  },
  {
   "cell_type": "code",
   "execution_count": null,
   "metadata": {},
   "outputs": [],
   "source": [
    "# Reduce the size of all images and crop them to fixed size\n",
    "root_source_folder = 'photos'\n",
    "root_destination_folder = 'photos_min'\n",
    "size = 128, 128\n",
    "\n",
    "# Iterate over folders of two labels\n",
    "for folder in os.listdir(root_source_folder)[1:]:\n",
    "    for (dirpath, dirnames, filenames) in os.walk(os.path.join(root_source_folder, folder)):\n",
    "        for file in filenames:\n",
    "            infile = os.path.join(dirpath, file)\n",
    "            outfile = os.path.join(root_destination_folder, folder, file)\n",
    "            \n",
    "            # Check if file already exists\n",
    "            if os.path.isfile(outfile):\n",
    "                continue\n",
    "                \n",
    "            try:\n",
    "                # Open the image\n",
    "                img = Image.open(infile)\n",
    "                \n",
    "                # Get the image dimensions\n",
    "                w, h = img.size\n",
    "                \n",
    "                # Find the smaller dimension to crop the bigger dimension accordingly\n",
    "                min_dim = min(w, h)\n",
    "                \n",
    "                # The number of pixels to be cropped would be half on both sides\n",
    "                w_new = (w-min_dim) / 2\n",
    "                h_new = (h-min_dim) / 2\n",
    "                \n",
    "                # Crop the image\n",
    "                img = img.crop((w_new, h_new, w-w_new, h-h_new))\n",
    "                \n",
    "                # Resize the image\n",
    "                img.thumbnail(size, Image.ANTIALIAS)\n",
    "                \n",
    "                # Convert to grayscale\n",
    "                img = img.convert('LA')\n",
    "                \n",
    "                # Save to file\n",
    "                img.save(outfile, 'PNG')\n",
    "            except IOError as e:\n",
    "                print(\"Could not open %s because %s\" % (infile, e))"
   ]
  },
  {
   "cell_type": "code",
   "execution_count": null,
   "metadata": {},
   "outputs": [],
   "source": []
  }
 ],
 "metadata": {
  "kernelspec": {
   "display_name": "Python 3",
   "language": "python",
   "name": "python3"
  },
  "language_info": {
   "codemirror_mode": {
    "name": "ipython",
    "version": 3
   },
   "file_extension": ".py",
   "mimetype": "text/x-python",
   "name": "python",
   "nbconvert_exporter": "python",
   "pygments_lexer": "ipython3",
   "version": "3.6.5"
  }
 },
 "nbformat": 4,
 "nbformat_minor": 2
}
